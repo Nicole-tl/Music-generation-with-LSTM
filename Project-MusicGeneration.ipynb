{
 "cells": [
  {
   "cell_type": "code",
   "execution_count": 1,
   "metadata": {},
   "outputs": [],
   "source": [
    "# Implement libraries \n",
    "from pretty_midi import pretty_midi\n",
    "\n",
    "import glob\n",
    "import pickle\n",
    "import numpy as np\n",
    "import matplotlib.pyplot as plt\n",
    "%matplotlib inline\n",
    "\n",
    "import mir_eval.display\n",
    "import librosa.display\n",
    "\n",
    "import music21\n",
    "from music21 import converter, instrument, note, chord, stream, corpus, midi, pitch\n",
    "from tensorflow import keras\n",
    "from keras.models import Sequential, load_model\n",
    "from keras.layers import Dense\n",
    "from keras.layers import Dropout\n",
    "from keras.layers import LSTM\n",
    "from keras.layers import Activation\n",
    "from keras.layers import BatchNormalization as BatchNorm\n",
    "from keras.utils import np_utils\n",
    "from keras.callbacks import ModelCheckpoint\n",
    "from keras.utils import plot_model\n",
    "import pydot\n",
    "\n",
    "from sklearn.model_selection import train_test_split\n"
   ]
  },
  {
   "cell_type": "code",
   "execution_count": 2,
   "metadata": {},
   "outputs": [],
   "source": [
    "# Create a function to convert midi files to a dataset\n",
    "# Get all notes and chords from path ./midi_songs\n",
    "def get_notes_and_chords(song_ind):\n",
    "    note_dataset = []\n",
    "    org_dataset = []\n",
    "    ind = 0\n",
    "    \n",
    "    for midi_file in glob.glob(\"midi_songs/*.mid\"):\n",
    "        #print(\"Parsing \", midi_file)\n",
    "        midi = converter.parse(midi_file)\n",
    "        \n",
    "        note_to_parse = None # Initialize variable\n",
    "        \n",
    "        try: # file has instrument parts\n",
    "            s2 = instrument.partitionByInstrument(midi)\n",
    "            notes_to_parse = s2.parts[0].recurse() \n",
    "        except: # file has notes in a flat structure\n",
    "            notes_to_parse = midi.flat.notes\n",
    "\n",
    "        for element in notes_to_parse:\n",
    "            if (ind == song_ind):\n",
    "                song_name = midi_file\n",
    "                if isinstance(element, note.Note):\n",
    "                    note_dataset.append(str(element.pitch))\n",
    "                    org_dataset.append(str(element.pitch))\n",
    "                elif isinstance(element, chord.Chord):\n",
    "                    note_dataset.append('.'.join(str(n) for n in element.normalOrder))\n",
    "                    org_dataset.append('.'.join(str(n) for n in element.normalOrder))\n",
    "            else:\n",
    "                if isinstance(element, note.Note):\n",
    "                    note_dataset.append(str(element.pitch))\n",
    "                elif isinstance(element, chord.Chord):\n",
    "                    note_dataset.append('.'.join(str(n) for n in element.normalOrder))\n",
    "\n",
    "        ind +=1\n",
    "\n",
    "    with open('notes/notes', 'wb') as filepath:\n",
    "        pickle.dump(note_dataset, filepath)\n",
    "    \n",
    "    print(\"Successfully parsing!\")\n",
    "\n",
    "    return note_dataset, org_dataset, song_name\n",
    "    \n"
   ]
  },
  {
   "cell_type": "code",
   "execution_count": 3,
   "metadata": {},
   "outputs": [],
   "source": [
    "# Mapping function - preprocessing\n",
    "def preprocessing(notes):\n",
    "    n_length = len(notes)\n",
    "    # Sequence length is the stored length of sequence for predicting the next prediction\n",
    "    sequence_length = 100 # CHOOSE\n",
    "\n",
    "    # Generate a list with all the pitch names\n",
    "    pitchnames = sorted(set(item for item in notes))\n",
    "    #print(pitchnames)\n",
    "\n",
    "    network_in = []\n",
    "    network_out = []\n",
    "    pattern = 0\n",
    "\n",
    "    # create input sequences and the corresponding outputs\n",
    "    for i in range(0, len(notes) - sequence_length, 1):\n",
    "        sequence_in = notes[i:i + sequence_length]\n",
    "        sequence_out = notes[i + sequence_length]\n",
    "\n",
    "        # Normalize the pitch to be between 0-1\n",
    "        in_pitch = [pitchnames.index(sequence_in[i])/len(pitchnames) for i in range(sequence_length)]\n",
    "        out_pitch = pitchnames.index(sequence_out)\n",
    "\n",
    "        network_in.append(in_pitch)\n",
    "        network_out.append(out_pitch)\n",
    "        pattern+=1\n",
    "\n",
    "\n",
    "    # Reshape the input into a format compatible with LSTM layers\n",
    "    # Shape - [ len(network_in), 100,1]\n",
    "    reshaped_in = np.reshape(network_in, (pattern, sequence_length, 1))\n",
    "\n",
    "\n",
    "    # One hot encoding for the output\n",
    "    network_out = np_utils.to_categorical(network_out)\n",
    "\n",
    "    return network_in, network_out, reshaped_in\n",
    "\n"
   ]
  },
  {
   "cell_type": "code",
   "execution_count": 4,
   "metadata": {},
   "outputs": [],
   "source": [
    "# Create a neural network with LSTM\n",
    "def LSTM_network(network_in, voc_n):\n",
    "    model = Sequential()\n",
    "    model.add(LSTM(512, recurrent_dropout=0.3, return_sequences=True))\n",
    "    model.add(Dropout(0.3))\n",
    "    model.add(LSTM(512, return_sequences=True, recurrent_dropout=0.3))\n",
    "    model.add(Dropout(0.3))\n",
    "    model.add(LSTM(512))\n",
    "    model.add(BatchNorm())\n",
    "    model.add(Dropout(0.3))\n",
    "    model.add(Dense(256))\n",
    "    model.add(Activation('relu'))\n",
    "    model.add(BatchNorm())\n",
    "    model.add(Dropout(0.3))\n",
    "    model.add(Dense(voc_n))\n",
    "    model.add(Activation('softmax'))\n",
    "    model.compile(loss='categorical_crossentropy', optimizer='rmsprop')\n",
    "    \n",
    "    return model"
   ]
  },
  {
   "cell_type": "code",
   "execution_count": 5,
   "metadata": {},
   "outputs": [],
   "source": [
    "def training(model, x_train, y_train):\n",
    "    filepath = \"weights-improvement-{epoch:02d}-{loss:.4f}-bigger.h5\"\n",
    "    lossModel = ModelCheckpoint(\n",
    "        filepath,\n",
    "        monitor='loss',\n",
    "        verbose=1,\n",
    "        save_best_only=True,\n",
    "        mode='min'\n",
    "    )\n",
    "\n",
    "    callbacks_list = [lossModel]\n",
    "\n",
    "    history = model.fit(x_train, y_train, epochs=200, batch_size=100, callbacks=callbacks_list)\n",
    "\n",
    "    model.save(\"my_model\")\n",
    "    \n",
    "    print(\"Training finished!\")\n",
    "    \n",
    "    return history\n"
   ]
  },
  {
   "cell_type": "code",
   "execution_count": 6,
   "metadata": {},
   "outputs": [],
   "source": [
    "# ------- Training finished, now start to predict --------"
   ]
  },
  {
   "cell_type": "code",
   "execution_count": 7,
   "metadata": {},
   "outputs": [],
   "source": [
    "# Generate notes from neural network\n",
    "def generate_new_notes(model, pitchnames, voc_n, org_song, numb_new):\n",
    "    \n",
    "    # Starting point of the prediction\n",
    "    pattern = [org_song[-1][i] for i in range(len(org_song[0]))]\n",
    "\n",
    "    \n",
    "    pred_out = []\n",
    "    result = []\n",
    "    \n",
    "    # Generate (numb_new) # of notes\n",
    "    for note_ind in range(numb_new):\n",
    "        # reshape and normalize the input prediction\n",
    "        pred_in = np.reshape(pattern, (1, len(pattern), 1))\n",
    "        pred_in = pred_in/float(voc_n)\n",
    "        \n",
    "        pred = model.predict(pred_in, verbose = 0)\n",
    "        \n",
    "        ind = np.argmax(pred)\n",
    "        n = pitchnames[ind]\n",
    "        pred_out.append(n)\n",
    "        \n",
    "        pattern.append(ind)\n",
    "        pattern = pattern[1:len(pattern)]\n",
    "\n",
    "        \n",
    "    return pred_out\n",
    "    "
   ]
  },
  {
   "cell_type": "code",
   "execution_count": 8,
   "metadata": {},
   "outputs": [],
   "source": [
    "def merge_to_song(pred_out, org_notes, numb_new):\n",
    "    # Replace with predicted notes at the end\n",
    "    new = org_notes[0:-1-numb_new] + pred_out\n",
    "    return new\n"
   ]
  },
  {
   "cell_type": "code",
   "execution_count": 9,
   "metadata": {},
   "outputs": [],
   "source": [
    "# Convert output to notes\n",
    "def convert_pred_to_notes(pred_out):\n",
    "    notes_out = []\n",
    "    offset = 0\n",
    "    \n",
    "    # Generate chord/notes based on the value generated\n",
    "    for i in pred_out:\n",
    "        # If i is a chord\n",
    "        if ('.' in i) or i.isdigit():\n",
    "            note_in_c = i.split('.')\n",
    "            notes = []\n",
    "            # Create new notes from chord\n",
    "            for curr_note in note_in_c:\n",
    "                new_note = note.Note(int(curr_note))\n",
    "                new_note.storedInstrument = instrument.Piano()\n",
    "                notes.append(new_note)\n",
    "                \n",
    "            new_chord = chord.Chord(notes)\n",
    "            new_chord.offset = offset\n",
    "            notes_out.append(new_chord)\n",
    "        # Else: i is a note\n",
    "        else:\n",
    "            new_note = note.Note(i)\n",
    "            new_note.offset = offset\n",
    "            new_note.storedInstrument = instrument.Piano()\n",
    "            notes_out.append(new_note)\n",
    "            \n",
    "        offset += 0.5\n",
    "    \n",
    "    \n",
    "    return notes_out"
   ]
  },
  {
   "cell_type": "code",
   "execution_count": 10,
   "metadata": {},
   "outputs": [],
   "source": [
    "# Create midi_file\n",
    "def create_midi_file(pred, new_name):\n",
    "    midi_stream = stream.Stream(pred)\n",
    "    midi_stream.write('midi', fp = new_name)\n",
    "    print(\"Midi-file successfully created!\")"
   ]
  },
  {
   "cell_type": "code",
   "execution_count": 11,
   "metadata": {},
   "outputs": [
    {
     "name": "stdout",
     "output_type": "stream",
     "text": [
      "Successfully parsing!\n",
      "Midi-file successfully created!\n",
      "Midi-file successfully created!\n"
     ]
    }
   ],
   "source": [
    "change_ind = 80\n",
    "new_name = 'My_song.mid'\n",
    "numb_notes = 200\n",
    "\n",
    "notes, org_notes, song_name = get_notes_and_chords(change_ind)\n",
    "voc_n = len(set(notes))\n",
    "pitchnames = sorted(set(item for item in notes))\n",
    "\n",
    "network_in, network_out, reshaped_norm_in = preprocessing(notes)\n",
    "original_in, _,_  = preprocessing(org_notes)\n",
    "\n",
    "# Split the network into training set (85 %) and validation(test) set (15 %)\n",
    "in_train, in_test, out_train, out_test= train_test_split(reshaped_norm_in, network_out, test_size =0.15)\n",
    "\n",
    "# If want to traing the network and calculate the loss for the training, uncomment this part\n",
    "\"\"\"# Define the model\n",
    "model = LSTM_network(in_train, voc_n)\n",
    "\n",
    "# Start training\n",
    "#history = training(model, in_train, out_train)\"\"\"\n",
    "\n",
    "# Load trained model and weights\n",
    "model = keras.models.load_model('my_model')\n",
    "model.load_weights('weights-improvement-200-0.6249-bigger.h5')\n",
    "\n",
    "# Generate new sequence by prediction with the trained model and weights\n",
    "pred_sequence = generate_new_notes(model, pitchnames, voc_n, original_in, numb_notes)\n",
    "\n",
    "# Implement the new sequence into the original song\n",
    "pred_song = merge_to_song(pred_sequence, org_notes, numb_notes)\n",
    "\n",
    "# Create a midi-file for the sequence \n",
    "pred_notes = convert_pred_to_notes(pred_sequence)\n",
    "create_midi_file(pred_notes,'Sequence.mid')\n",
    "\n",
    "# Create a midi-file for the new song\n",
    "new_notes = convert_pred_to_notes(pred_song)\n",
    "create_midi_file(new_notes, new_name)\n"
   ]
  },
  {
   "cell_type": "code",
   "execution_count": null,
   "metadata": {},
   "outputs": [],
   "source": [
    "# ------- Evaluate the prediction and the model --------"
   ]
  },
  {
   "cell_type": "code",
   "execution_count": 18,
   "metadata": {},
   "outputs": [],
   "source": [
    "def plot_piano_roll(pm, filename, start_pitch, end_pitch, numb_notes, org_notes, fs=100):\n",
    "    fig, ax = plt.subplots()\n",
    "    # Use librosa's specshow function for displaying the piano roll\n",
    "    librosa.display.specshow(pm.get_piano_roll(fs)[start_pitch:end_pitch],\n",
    "                             hop_length=1, sr=fs, x_axis='time', y_axis='cqt_note',ax = ax)\n",
    "    ax.set(title=filename)\n"
   ]
  },
  {
   "cell_type": "code",
   "execution_count": 21,
   "metadata": {},
   "outputs": [
    {
     "name": "stdout",
     "output_type": "stream",
     "text": [
      "<pretty_midi.pretty_midi.PrettyMIDI object at 0x7faf3215ef10>\n"
     ]
    },
    {
     "data": {
      "image/png": "[encoded data removed]",
      "text/plain": [
       "<Figure size 432x288 with 1 Axes>"
      ]
     },
     "metadata": {
      "image/png": {
       "height": 277,
       "width": 383
      },
      "needs_background": "light"
     },
     "output_type": "display_data"
    },
    {
     "data": {
      "image/png": "[encoded data removed]",
      "text/plain": [
       "<Figure size 432x288 with 1 Axes>"
      ]
     },
     "metadata": {
      "image/png": {
       "height": 277,
       "width": 383
      },
      "needs_background": "light"
     },
     "output_type": "display_data"
    }
   ],
   "source": [
    "# Plot the rolls for the original song and with the generated part\n",
    "midi_pretty_format = pretty_midi.PrettyMIDI(song_name)\n",
    "filename = song_name.split('/')[-1]\n",
    "plot_piano_roll(midi_pretty_format,filename, 24, 84,numb_notes, org_notes)\n",
    "\n",
    "midi_pretty_format = pretty_midi.PrettyMIDI(new_name)\n",
    "plot_piano_roll(midi_pretty_format,new_name, 24, 84, numb_notes, org_notes)\n",
    "print(midi_pretty_format)"
   ]
  },
  {
   "cell_type": "code",
   "execution_count": 16,
   "metadata": {},
   "outputs": [
    {
     "name": "stdout",
     "output_type": "stream",
     "text": [
      "17/17 [==============================] - 9s 522ms/step - loss: 0.4830\n",
      "The loss for the test set is:  0.48304513096809387\n"
     ]
    }
   ],
   "source": [
    "# Evaluate the accuracy of the model for the test set\n",
    "loss_test = model.evaluate(in_test, out_test, batch_size=50)\n",
    "print(\"The loss for the test set is: \", loss_test)"
   ]
  },
  {
   "cell_type": "code",
   "execution_count": 17,
   "metadata": {},
   "outputs": [
    {
     "ename": "NameError",
     "evalue": "name 'history' is not defined",
     "output_type": "error",
     "traceback": [
      "\u001b[0;31m---------------------------------------------------------------------------\u001b[0m",
      "\u001b[0;31mNameError\u001b[0m                                 Traceback (most recent call last)",
      "\u001b[0;32m<ipython-input-17-5496bd08077a>\u001b[0m in \u001b[0;36m<module>\u001b[0;34m\u001b[0m\n\u001b[1;32m      1\u001b[0m \u001b[0;31m# Plot the loss through the training\u001b[0m\u001b[0;34m\u001b[0m\u001b[0;34m\u001b[0m\u001b[0;34m\u001b[0m\u001b[0m\n\u001b[0;32m----> 2\u001b[0;31m \u001b[0mplt\u001b[0m\u001b[0;34m.\u001b[0m\u001b[0mplot\u001b[0m\u001b[0;34m(\u001b[0m\u001b[0mhistory\u001b[0m\u001b[0;34m.\u001b[0m\u001b[0mhistory\u001b[0m\u001b[0;34m[\u001b[0m\u001b[0;34m'loss'\u001b[0m\u001b[0;34m]\u001b[0m\u001b[0;34m)\u001b[0m\u001b[0;34m\u001b[0m\u001b[0;34m\u001b[0m\u001b[0m\n\u001b[0m\u001b[1;32m      3\u001b[0m \u001b[0mplt\u001b[0m\u001b[0;34m.\u001b[0m\u001b[0mtitle\u001b[0m\u001b[0;34m(\u001b[0m\u001b[0;34m'model loss'\u001b[0m\u001b[0;34m)\u001b[0m\u001b[0;34m\u001b[0m\u001b[0;34m\u001b[0m\u001b[0m\n\u001b[1;32m      4\u001b[0m \u001b[0mplt\u001b[0m\u001b[0;34m.\u001b[0m\u001b[0mylabel\u001b[0m\u001b[0;34m(\u001b[0m\u001b[0;34m'loss'\u001b[0m\u001b[0;34m)\u001b[0m\u001b[0;34m\u001b[0m\u001b[0;34m\u001b[0m\u001b[0m\n\u001b[1;32m      5\u001b[0m \u001b[0mplt\u001b[0m\u001b[0;34m.\u001b[0m\u001b[0mxlabel\u001b[0m\u001b[0;34m(\u001b[0m\u001b[0;34m'epoch'\u001b[0m\u001b[0;34m)\u001b[0m\u001b[0;34m\u001b[0m\u001b[0;34m\u001b[0m\u001b[0m\n",
      "\u001b[0;31mNameError\u001b[0m: name 'history' is not defined"
     ]
    }
   ],
   "source": [
    "# Plot the loss through the training\n",
    "plt.plot(history.history['loss'])\n",
    "plt.title('model loss')\n",
    "plt.ylabel('loss')\n",
    "plt.xlabel('epoch')\n",
    "print(history.history.keys())"
   ]
  },
  {
   "cell_type": "code",
   "execution_count": null,
   "metadata": {},
   "outputs": [],
   "source": [
    "# Display network in a png file\n",
    "model = keras.models.load_model('my_model')\n",
    "keras.utils.plot_model(model, to_file='my_network.png', show_shapes=False)"
   ]
  },
  {
   "cell_type": "code",
   "execution_count": null,
   "metadata": {},
   "outputs": [],
   "source": []
  }
 ],
 "metadata": {
  "kernelspec": {
   "display_name": "Python 3",
   "language": "python",
   "name": "python3"
  },
  "language_info": {
   "codemirror_mode": {
    "name": "ipython",
    "version": 3
   },
   "file_extension": ".py",
   "mimetype": "text/x-python",
   "name": "python",
   "nbconvert_exporter": "python",
   "pygments_lexer": "ipython3",
   "version": "3.7.7"
  }
 },
 "nbformat": 4,
 "nbformat_minor": 4
}
